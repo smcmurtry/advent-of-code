{
 "cells": [
  {
   "cell_type": "code",
   "execution_count": 37,
   "metadata": {},
   "outputs": [
    {
     "name": "stdout",
     "output_type": "stream",
     "text": [
      "448\n"
     ]
    }
   ],
   "source": [
    "# part 1\n",
    "f = open(\"input.txt\", \"r\")\n",
    "contents = f.read()\n",
    "f.close()\n",
    "x = contents.split(\"\\n\")\n",
    "print(sum([int(xi) for xi in x if xi]))\n",
    "\n",
    "# part 2\n",
    "changes = [int(xi) for xi in x if xi]\n",
    "frequency = 0\n",
    "all_frequencies = [0]\n",
    "i = 0\n",
    "while True:\n",
    "    if i > len(changes) - 1:\n",
    "        i = 0\n",
    "    frequency += changes[i]\n",
    "    if frequency in all_frequencies:\n",
    "        print(frequency)\n",
    "        break\n",
    "    all_frequencies.append(frequency)\n",
    "    i += 1"
   ]
  }
 ],
 "metadata": {
  "kernelspec": {
   "display_name": "Python 3",
   "language": "python",
   "name": "python3"
  },
  "language_info": {
   "codemirror_mode": {
    "name": "ipython",
    "version": 3
   },
   "file_extension": ".py",
   "mimetype": "text/x-python",
   "name": "python",
   "nbconvert_exporter": "python",
   "pygments_lexer": "ipython3",
   "version": "3.6.4"
  }
 },
 "nbformat": 4,
 "nbformat_minor": 2
}
