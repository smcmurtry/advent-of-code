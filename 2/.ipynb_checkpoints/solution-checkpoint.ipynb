{
 "cells": [
  {
   "cell_type": "code",
   "execution_count": 11,
   "metadata": {},
   "outputs": [],
   "source": [
    "# part 1\n",
    "\n",
    "from collections import Counter\n",
    "f = open(\"input.txt\", \"r\")\n",
    "contents = f.read()\n",
    "f.close()\n",
    "ids = [x for x in contents.split(\"\\n\") if x]\n",
    "count2 = 0\n",
    "count3 = 0\n",
    "for x in ids:\n",
    "    unique_counts = list(set(Counter(x).values()))    \n",
    "    count2 += 1 if 2 in unique_counts else 0\n",
    "    count3 += 1 if 3 in unique_counts else 0    \n",
    "print(count2*count3)\n",
    "\n",
    "# part 2\n",
    "\n",
    "def edit_distance_less_than_2(a, b):\n",
    "    edits = 0\n",
    "    for position, letter in enumerate(a):\n",
    "        edits += 1 if letter != b[position] else 0\n",
    "        if edits > 1:\n",
    "            return False\n",
    "    return True\n",
    "\n",
    "for id1 in ids:\n",
    "    for id2 in ids:\n",
    "        if id1 == id2:\n",
    "            continue\n",
    "        if edit_distance_less_than_2(id1, id2):\n",
    "            match1, match2 = id1, id2            \n",
    "            \n",
    "print(''.join([letter for position, letter in enumerate(match1) if letter == match2[position]]))"
   ]
  }
 ],
 "metadata": {
  "kernelspec": {
   "display_name": "Python 3",
   "language": "python",
   "name": "python3"
  },
  "language_info": {
   "codemirror_mode": {
    "name": "ipython",
    "version": 3
   },
   "file_extension": ".py",
   "mimetype": "text/x-python",
   "name": "python",
   "nbconvert_exporter": "python",
   "pygments_lexer": "ipython3",
   "version": "3.6.4"
  }
 },
 "nbformat": 4,
 "nbformat_minor": 2
}
