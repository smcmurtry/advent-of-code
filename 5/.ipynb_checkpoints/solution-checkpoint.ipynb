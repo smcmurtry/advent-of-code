{
 "cells": [
  {
   "cell_type": "code",
   "execution_count": 71,
   "metadata": {},
   "outputs": [],
   "source": [
    "# part 1\n",
    "\n",
    "f = open(\"input.txt\", \"r\")\n",
    "contents = f.read()\n",
    "f.close()\n",
    "\n",
    "contents = contents.replace(\"\\n\", \"\")\n",
    "polymer = contents[:]\n",
    "alphabet = \"ABCDEFGHIJKLMNOPQRSTUVWXYZ\"\n",
    "\n",
    "def loop_through_alphabet(polymer):\n",
    "    reaction_occurred = False\n",
    "    for letter in alphabet:\n",
    "        combos = [letter + letter.lower(), letter.lower() + letter]\n",
    "        for combo in combos:\n",
    "            if combo in polymer:\n",
    "                polymer = polymer.replace(combo, \"\")\n",
    "                reaction_occurred = True\n",
    "    return polymer, reaction_occurred\n",
    "\n",
    "def get_final_length(polymer):\n",
    "    reaction_occurred = True\n",
    "    while reaction_occurred:\n",
    "        polymer, reaction_occurred = loop_through_alphabet(polymer)\n",
    "    return len(polymer)\n",
    "\n",
    "print(get_final_length(polymer))\n",
    "\n",
    "# part 2\n",
    "\n",
    "def remove_unit_type(polymer, letter):\n",
    "    polymer = polymer.replace(letter, \"\")\n",
    "    polymer = polymer.replace(letter.lower(), \"\")\n",
    "    return polymer    \n",
    "\n",
    "results = []\n",
    "for letter in alphabet:\n",
    "    polymer = contents[:]\n",
    "    reduced_polymer = remove_unit_type(polymer, letter)\n",
    "    results.append({\"letter\": letter, \"length\": get_final_length(reduced_polymer)})\n",
    "    \n",
    "results.sort(key=lambda x: x[\"length\"])\n",
    "print(results[0][\"length\"])"
   ]
  }
 ],
 "metadata": {
  "kernelspec": {
   "display_name": "Python 3",
   "language": "python",
   "name": "python3"
  },
  "language_info": {
   "codemirror_mode": {
    "name": "ipython",
    "version": 3
   },
   "file_extension": ".py",
   "mimetype": "text/x-python",
   "name": "python",
   "nbconvert_exporter": "python",
   "pygments_lexer": "ipython3",
   "version": "3.6.4"
  }
 },
 "nbformat": 4,
 "nbformat_minor": 2
}
