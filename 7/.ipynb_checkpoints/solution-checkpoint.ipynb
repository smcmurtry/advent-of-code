{
 "cells": [
  {
   "cell_type": "code",
   "execution_count": 71,
   "metadata": {},
   "outputs": [],
   "source": [
    "# contents = '''Step C must be finished before step A can begin.\n",
    "# Step C must be finished before step F can begin.\n",
    "# Step A must be finished before step B can begin.\n",
    "# Step A must be finished before step D can begin.\n",
    "# Step B must be finished before step E can begin.\n",
    "# Step D must be finished before step E can begin.\n",
    "# Step F must be finished before step E can begin.'''"
   ]
  },
  {
   "cell_type": "code",
   "execution_count": 70,
   "metadata": {},
   "outputs": [],
   "source": [
    "# part 1\n",
    "\n",
    "f = open(\"input.txt\", \"r\")\n",
    "contents = f.read()\n",
    "f.close()\n",
    "\n",
    "steps = [x for x in contents.split(\"\\n\") if x]\n",
    "\n",
    "def parse_step(step):\n",
    "    return [step.split(\" \")[1], step.split(\" \")[7]]\n",
    "\n",
    "parsed_steps = [parse_step(step) for step in steps]\n",
    "\n",
    "all_letters = []\n",
    "for step in parsed_steps:\n",
    "    all_letters += step\n",
    "    \n",
    "all_letters = list(set(all_letters))\n",
    "\n",
    "def get_available_steps(parsed_steps, completed_steps, all_letters):\n",
    "    set([x[1] for x in parsed_steps])\n",
    "    no_requirements = list(set(all_letters).difference(set([x[1] for x in parsed_steps])))\n",
    "    locked_steps = list(set([x[1] for x in parsed_steps if x[0] not in completed_steps]))\n",
    "    unlocked_steps = set(all_letters).difference(set(locked_steps))\n",
    "    available_steps = set(no_requirements).union(unlocked_steps)\n",
    "    available_new_steps = list(available_steps.difference(set(completed_steps)))\n",
    "    available_new_steps.sort()\n",
    "    return available_new_steps\n",
    "\n",
    "completed_steps = []\n",
    "while len(completed_steps) < len(all_letters):\n",
    "    available_steps = get_available_steps(parsed_steps, completed_steps, all_letters)\n",
    "    if len(available_steps) == 0:\n",
    "        print(\"wtf\")\n",
    "        break\n",
    "    completed_steps.append(available_steps[0])\n",
    "    \n",
    "order = \"\".join(completed_steps)\n",
    "print(order)\n",
    "\n",
    "# part 2"
   ]
  },
  {
   "cell_type": "code",
   "execution_count": null,
   "metadata": {},
   "outputs": [],
   "source": []
  }
 ],
 "metadata": {
  "kernelspec": {
   "display_name": "Python 3",
   "language": "python",
   "name": "python3"
  },
  "language_info": {
   "codemirror_mode": {
    "name": "ipython",
    "version": 3
   },
   "file_extension": ".py",
   "mimetype": "text/x-python",
   "name": "python",
   "nbconvert_exporter": "python",
   "pygments_lexer": "ipython3",
   "version": "3.6.4"
  }
 },
 "nbformat": 4,
 "nbformat_minor": 2
}
