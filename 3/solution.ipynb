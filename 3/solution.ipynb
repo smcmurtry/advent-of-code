{
 "cells": [
  {
   "cell_type": "code",
   "execution_count": 1,
   "metadata": {},
   "outputs": [],
   "source": [
    "# part 1\n",
    "f = open(\"input.txt\", \"r\")\n",
    "contents = f.read()\n",
    "f.close()\n",
    "\n",
    "def parse(x):\n",
    "    parts = x.split(\" \")\n",
    "    claim_id = int(parts[0][1:])\n",
    "    x = int(parts[2].split(\",\")[0])\n",
    "    y = int(parts[2].split(\",\")[1][:-1])    \n",
    "    w = int(parts[3].split(\"x\")[0])\n",
    "    h = int(parts[3].split(\"x\")[1])\n",
    "    return {\"claim_id\": claim_id, \"x\": x, \"y\": y, \"w\": w, \"h\": h}\n",
    "\n",
    "def get_squares(claim):\n",
    "    x1, x2 = claim['x'], claim['x'] + claim['w']\n",
    "    y1, y2 = claim['y'], claim['y'] + claim['h']\n",
    "    points = []\n",
    "    for xi in range(x1, x2):\n",
    "        for yi in range(y1, y2):\n",
    "            points.append([xi, yi])\n",
    "    return points\n",
    "\n",
    "raw_claims = [x for x in contents.split(\"\\n\") if x]\n",
    "# raw_claims = [\"#1 @ 1,3: 4x4\", \"#2 @ 3,1: 4x4\", \"#3 @ 5,5: 2x2\"]\n",
    "claims = [parse(x) for x in raw_claims]\n",
    "\n",
    "all_points = []\n",
    "for claim in claims:\n",
    "    all_points += get_squares(claim)\n",
    "    \n",
    "from collections import Counter\n",
    "\n",
    "all_points_str = [str(x) + \",\" + str(y) for x, y in all_points]\n",
    "frequency = Counter(all_points_str)\n",
    "frequency_gt_1 = [[k, v] for k, v in frequency.items() if v > 1]\n",
    "print(len(frequency_gt_1))\n",
    "\n",
    "# part 2\n",
    "for n, claim in enumerate(claims):\n",
    "    all_other_points = all_points_str[:]\n",
    "    points = [str(x) + \",\" + str(y) for x, y in get_squares(claim)]\n",
    "    for point in points:\n",
    "        all_other_points.remove(point)\n",
    "    if len(set(all_other_points).intersection(set(points))) == 0:\n",
    "        print(\"winner\", claim['claim_id'])\n",
    "        break"
   ]
  },
  {
   "cell_type": "code",
   "execution_count": 164,
   "metadata": {},
   "outputs": [
    {
     "name": "stdout",
     "output_type": "stream",
     "text": [
      "0\n",
      "winner 1067\n"
     ]
    }
   ],
   "source": [
    "# part 2 better\n",
    "for n, claim in enumerate(claims[1066:]):\n",
    "    print(n)\n",
    "    unique = True\n",
    "    points = [str(x) + \",\" + str(y) for x, y in get_squares(claim)]\n",
    "    i = 0\n",
    "    while (unique and i < len(points)):\n",
    "        if all_points_str.count(points[i]) > 1:\n",
    "            unique = False\n",
    "        i +=1\n",
    "    if unique:\n",
    "        print(\"winner\", claim['claim_id'])\n",
    "    break"
   ]
  },
  {
   "cell_type": "code",
   "execution_count": null,
   "metadata": {},
   "outputs": [],
   "source": []
  }
 ],
 "metadata": {
  "kernelspec": {
   "display_name": "Python 3",
   "language": "python",
   "name": "python3"
  },
  "language_info": {
   "codemirror_mode": {
    "name": "ipython",
    "version": 3
   },
   "file_extension": ".py",
   "mimetype": "text/x-python",
   "name": "python",
   "nbconvert_exporter": "python",
   "pygments_lexer": "ipython3",
   "version": "3.6.4"
  }
 },
 "nbformat": 4,
 "nbformat_minor": 2
}
