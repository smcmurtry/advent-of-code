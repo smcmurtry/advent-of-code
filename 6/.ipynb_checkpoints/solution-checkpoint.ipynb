{
 "cells": [
  {
   "cell_type": "code",
   "execution_count": 255,
   "metadata": {},
   "outputs": [],
   "source": [
    "contents = '''\n",
    "1, 1\n",
    "1, 6\n",
    "8, 3\n",
    "3, 4\n",
    "5, 5\n",
    "8, 9'''"
   ]
  },
  {
   "cell_type": "code",
   "execution_count": 276,
   "metadata": {},
   "outputs": [
    {
     "name": "stdout",
     "output_type": "stream",
     "text": [
      "5333\n"
     ]
    }
   ],
   "source": [
    "# part 1\n",
    "from collections import Counter \n",
    "\n",
    "f = open(\"input.txt\", \"r\")\n",
    "contents = f.read()\n",
    "f.close()\n",
    "\n",
    "coord_str = [x for x in contents.split(\"\\n\") if x]\n",
    "coords = [(int(x.split(\", \")[0]), int(x.split(\", \")[1])) for x in coord_str]\n",
    "\n",
    "x = [p[0] for p in coords]\n",
    "y = [p[1] for p in coords]\n",
    "\n",
    "x_min, x_max = min(x), max(x)\n",
    "y_min, y_max = min(y), max(y)\n",
    "\n",
    "grid = []\n",
    "for y in range(y_min-1, y_max+2):\n",
    "    row = []\n",
    "    for x in range(x_min-1, x_max+2):\n",
    "        row.append((x, y))\n",
    "    grid.append(row)\n",
    "    \n",
    "data = []\n",
    "for n, coord in enumerate(coords):\n",
    "    data.append({\"coord\": coord, \"point_id\": \"#\" + str(n)})\n",
    "\n",
    "def get_edge_dist(p1, p2):\n",
    "    return abs(p1[0] - p2[0]) + abs(p1[1] - p2[1])\n",
    "\n",
    "def get_closest_point(grid_point):\n",
    "    results = []\n",
    "    for d in data:\n",
    "        results.append({\"distance\": get_edge_dist(d[\"coord\"], grid_point), \n",
    "                        \"point_id\": d[\"point_id\"]})\n",
    "    results.sort(key=lambda x: x[\"distance\"])\n",
    "    if results[0][\"distance\"] == results[1][\"distance\"]:\n",
    "        return \".\"\n",
    "    return results[0][\"point_id\"]\n",
    "\n",
    "grid_closest = []\n",
    "for row in grid:\n",
    "    row_closest = []\n",
    "    for grid_point in row:\n",
    "        row_closest.append(get_closest_point(grid_point))\n",
    "    grid_closest.append(row_closest)\n",
    "    \n",
    "# the ids present in the 1st and last row, and 1st and last position in each row, are those \n",
    "# with infinitely many closest points, so they can be ruled out\n",
    "rule_out_1 = set(grid_closest[0])\n",
    "rule_out_2 = set(grid_closest[-1])\n",
    "rule_out_3 = set([r[0] for r in grid_closest])\n",
    "rule_out_4 = set([r[-1] for r in grid_closest])\n",
    "rule_out = rule_out_1.union(rule_out_2).union(rule_out_3).union(rule_out_4)\n",
    "\n",
    "flat_closest = []\n",
    "for row in grid_closest:\n",
    "    flat_closest += row \n",
    "    \n",
    "points = [x for x in flat_closest if x not in rule_out]\n",
    "ranking = list(Counter(points).items())\n",
    "ranking.sort(key=lambda x: x[1], reverse=True)\n",
    "print(ranking[0][1])\n",
    "\n",
    "# part 2\n",
    "\n",
    "max_distance = 10000\n",
    "\n",
    "def within_distance(max_distance, grid_point):\n",
    "    total_distance = 0\n",
    "    for d in data:\n",
    "        total_distance += get_edge_dist(d[\"coord\"], grid_point)\n",
    "        if total_distance >= max_distance:\n",
    "            return False\n",
    "    return True\n",
    "\n",
    "grid_region = []\n",
    "for row in grid:\n",
    "    for grid_point in row:\n",
    "        if within_distance(max_distance, grid_point):\n",
    "            grid_region.append(grid_point)\n",
    "            \n",
    "print(len(grid_region))"
   ]
  },
  {
   "cell_type": "code",
   "execution_count": 277,
   "metadata": {},
   "outputs": [],
   "source": []
  },
  {
   "cell_type": "code",
   "execution_count": 278,
   "metadata": {},
   "outputs": [],
   "source": []
  },
  {
   "cell_type": "code",
   "execution_count": 279,
   "metadata": {},
   "outputs": [],
   "source": []
  },
  {
   "cell_type": "code",
   "execution_count": 280,
   "metadata": {},
   "outputs": [
    {
     "name": "stdout",
     "output_type": "stream",
     "text": [
      "35334\n"
     ]
    }
   ],
   "source": []
  },
  {
   "cell_type": "code",
   "execution_count": null,
   "metadata": {},
   "outputs": [],
   "source": []
  }
 ],
 "metadata": {
  "kernelspec": {
   "display_name": "Python 3",
   "language": "python",
   "name": "python3"
  },
  "language_info": {
   "codemirror_mode": {
    "name": "ipython",
    "version": 3
   },
   "file_extension": ".py",
   "mimetype": "text/x-python",
   "name": "python",
   "nbconvert_exporter": "python",
   "pygments_lexer": "ipython3",
   "version": "3.6.4"
  }
 },
 "nbformat": 4,
 "nbformat_minor": 2
}
