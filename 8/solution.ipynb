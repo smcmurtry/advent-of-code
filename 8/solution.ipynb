{
 "cells": [
  {
   "cell_type": "code",
   "execution_count": 33,
   "metadata": {},
   "outputs": [],
   "source": [
    "# part 1\n",
    "\n",
    "f = open(\"input.txt\", \"r\")\n",
    "contents = f.read()\n",
    "f.close()"
   ]
  },
  {
   "cell_type": "code",
   "execution_count": 65,
   "metadata": {},
   "outputs": [],
   "source": [
    "# node = 0\n",
    "tree[\"header\"] = entries[:2]\n",
    "tree[\"children\"] = []\n",
    "\n",
    "\n",
    "child_node = {}\n",
    "\n",
    "tree[\"children\"].append(child_node)\n",
    "entries = entries[2:]\n",
    "child_node[\"header\"] = entries[:2]\n",
    "\n",
    "if child_node[\"header\"][0] > 0:\n",
    "    header = entries[:2]\n",
    "    entries = entries[2:]\n",
    "else:\n",
    "    header = entries[:2]\n",
    "    metadata = entries[2:2+header[1]]\n",
    "    entries = entries[2+header[1]:]\n"
   ]
  },
  {
   "cell_type": "code",
   "execution_count": 101,
   "metadata": {},
   "outputs": [],
   "source": []
  },
  {
   "cell_type": "code",
   "execution_count": 108,
   "metadata": {},
   "outputs": [],
   "source": [
    "def pull_header(entries):\n",
    "    return entries[:2], entries[2:]\n",
    "\n",
    "def pull_metadata(entries, n_metadata):\n",
    "    return entries[:n_metadata], entries[n_metadata:]"
   ]
  },
  {
   "cell_type": "code",
   "execution_count": 115,
   "metadata": {},
   "outputs": [],
   "source": [
    "contents = \"2 3 0 3 10 11 12 1 1 0 1 99 2 1 1 2\"\n",
    "entries = [int(x) for x in contents.split(\" \")]"
   ]
  },
  {
   "cell_type": "code",
   "execution_count": 116,
   "metadata": {},
   "outputs": [],
   "source": [
    "tree = {}\n",
    "# parent_node = {}# {\"children\": []}\n",
    "node_id = 0\n",
    "while len(entries) > 0:\n",
    "    header, entries = pull_header(entries)\n",
    "    node = {}\n",
    "    node[\"header\"] = header\n",
    "    \n",
    "    if header[0] > 0:\n",
    "        tree[node_id] = node\n",
    "        node_id += 1\n",
    "#         parent_node = node\n",
    "    else:\n",
    "        metadata, entries = pull_metadata(entries, header[1])\n",
    "        node[\"metadata\"] = metadata\n",
    "        tree[node_id] = node\n",
    "        node_id += 1"
   ]
  },
  {
   "cell_type": "code",
   "execution_count": 117,
   "metadata": {},
   "outputs": [
    {
     "data": {
      "text/plain": [
       "{0: {'header': [2, 3]},\n",
       " 1: {'header': [0, 3], 'metadata': [10, 11, 12]},\n",
       " 2: {'header': [1, 1]},\n",
       " 3: {'header': [0, 1], 'metadata': [99]},\n",
       " 4: {'header': [2, 1]},\n",
       " 5: {'header': [1, 2]}}"
      ]
     },
     "execution_count": 117,
     "metadata": {},
     "output_type": "execute_result"
    }
   ],
   "source": [
    "tree"
   ]
  },
  {
   "cell_type": "code",
   "execution_count": 92,
   "metadata": {},
   "outputs": [
    {
     "data": {
      "text/plain": [
       "{'children': [], 'header': [1, 2]}"
      ]
     },
     "execution_count": 92,
     "metadata": {},
     "output_type": "execute_result"
    }
   ],
   "source": [
    "parent_node"
   ]
  },
  {
   "cell_type": "code",
   "execution_count": 82,
   "metadata": {},
   "outputs": [
    {
     "data": {
      "text/plain": [
       "{'children': [], 'header': [1, 2]}"
      ]
     },
     "execution_count": 82,
     "metadata": {},
     "output_type": "execute_result"
    }
   ],
   "source": [
    "node"
   ]
  },
  {
   "cell_type": "code",
   "execution_count": null,
   "metadata": {},
   "outputs": [],
   "source": []
  }
 ],
 "metadata": {
  "kernelspec": {
   "display_name": "Python 3",
   "language": "python",
   "name": "python3"
  },
  "language_info": {
   "codemirror_mode": {
    "name": "ipython",
    "version": 3
   },
   "file_extension": ".py",
   "mimetype": "text/x-python",
   "name": "python",
   "nbconvert_exporter": "python",
   "pygments_lexer": "ipython3",
   "version": "3.6.4"
  }
 },
 "nbformat": 4,
 "nbformat_minor": 2
}
