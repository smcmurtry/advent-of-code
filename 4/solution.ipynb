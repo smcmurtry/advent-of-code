{
 "cells": [
  {
   "cell_type": "code",
   "execution_count": 217,
   "metadata": {},
   "outputs": [],
   "source": [
    "# part 1\n",
    "import pandas as pd\n",
    "from collections import Counter \n",
    "\n",
    "f = open(\"input.txt\", \"r\")\n",
    "contents = f.read()\n",
    "f.close()\n",
    "\n",
    "lines = [line for line in contents.split(\"\\n\") if line]\n",
    "\n",
    "def get_adj_datetime(line):\n",
    "    date_str = line[1:17]\n",
    "    year_str = date_str[:4]\n",
    "    adj_year = str(int(year_str)+500)\n",
    "    adj_date_str = date_str.replace(year_str, adj_year)\n",
    "    return pd.to_datetime(adj_date_str)\n",
    "\n",
    "lines_w_datetime = [{\"datetime\": get_adj_datetime(line), \"line\": line} for line in lines]\n",
    "lines_w_datetime.sort(key= lambda x: x[\"datetime\"])\n",
    "sorted_lines = [x[\"line\"] for x in lines_w_datetime]\n",
    "\n",
    "def get_guard_id(line):\n",
    "    return line.split(\" \")[3]\n",
    "\n",
    "data = []\n",
    "obj = {}\n",
    "for x in lines_w_datetime:\n",
    "    line, minute = x[\"line\"], x[\"datetime\"].minute\n",
    "    if \"Guard\" in line:\n",
    "        if obj:\n",
    "            data.append(obj)\n",
    "        obj = {\"id\": get_guard_id(line), \"state_change\": []}\n",
    "        continue\n",
    "    if \"asleep\" in line or \"wakes\" in line:\n",
    "        obj[\"state_change\"].append(minute)\n",
    "        continue\n",
    "data.append(obj)\n",
    "\n",
    "for obj in data:\n",
    "    awake_state = True\n",
    "    obj[\"awake\"] = []\n",
    "    for minute in range(60):\n",
    "        if minute not in obj[\"state_change\"]:\n",
    "            obj[\"awake\"].append(awake_state)\n",
    "            continue\n",
    "        awake_state = not awake_state\n",
    "        obj[\"awake\"].append(awake_state)\n",
    "        \n",
    "sleep_duration = {}\n",
    "for obj in data:\n",
    "    if obj[\"id\"] not in sleep_duration:\n",
    "        sleep_duration[obj[\"id\"]] = 0\n",
    "    sleep_duration[obj[\"id\"]] += len([state for state in obj[\"awake\"] if not state])\n",
    "    \n",
    "duration_list = list(sleep_duration.items())\n",
    "duration_list.sort(key= lambda x: x[1])\n",
    "sleepiest_guard = duration_list[-1][0]\n",
    "\n",
    "def get_sleeping_minutes(obj):\n",
    "    return [minute for minute, awake in enumerate(obj[\"awake\"]) if not awake]\n",
    "\n",
    "sleepiest_guard_asleep = []\n",
    "for obj in data:\n",
    "    if obj[\"id\"] == sleepiest_guard:\n",
    "        sleepiest_guard_asleep += get_sleeping_minutes(obj)\n",
    "        \n",
    "sleep_counts = list(Counter(sleepiest_guard_asleep).items())\n",
    "sleep_counts.sort(key=lambda x: x[1])\n",
    "sleepiest_minute = sleep_counts[-1][0]\n",
    "\n",
    "print(sleepiest_minute*int(sleepiest_guard[1:]))\n",
    "\n",
    "# part 2\n",
    "\n",
    "sleeping_minutes_dict = {}\n",
    "for obj in data:\n",
    "    if obj[\"id\"] not in sleeping_minutes_dict:\n",
    "        sleeping_minutes_dict[obj[\"id\"]] = []\n",
    "    sleeping_minutes_dict[obj[\"id\"]] += get_sleeping_minutes(obj)\n",
    "    \n",
    "leaderboard = []\n",
    "for guard_id in sleeping_minutes_dict:\n",
    "    asleep = sleeping_minutes_dict[guard_id]\n",
    "    if not asleep:\n",
    "        continue\n",
    "    sleep_counts = list(Counter(asleep).items())\n",
    "    sleep_counts.sort(key=lambda x: x[1], reverse=True)    \n",
    "    leaderboard.append({\"id\": guard_id, \"count\": sleep_counts[0][1], \"sleepiest_minute\":  sleep_counts[0][0]})\n",
    "    \n",
    "leaderboard.sort(key=lambda x: x[\"count\"], reverse=True)\n",
    "sleep_counts.sort(key=lambda x: x[1], reverse=True)\n",
    "print(int(leaderboard[0][\"id\"][1:])*leaderboard[0][\"sleepiest_minute\"])"
   ]
  },
  {
   "cell_type": "code",
   "execution_count": 292,
   "metadata": {},
   "outputs": [
    {
     "name": "stdout",
     "output_type": "stream",
     "text": [
      "84834\n"
     ]
    }
   ],
   "source": []
  },
  {
   "cell_type": "code",
   "execution_count": 293,
   "metadata": {},
   "outputs": [],
   "source": []
  },
  {
   "cell_type": "code",
   "execution_count": 294,
   "metadata": {},
   "outputs": [],
   "source": []
  },
  {
   "cell_type": "code",
   "execution_count": 295,
   "metadata": {},
   "outputs": [],
   "source": []
  },
  {
   "cell_type": "code",
   "execution_count": 296,
   "metadata": {},
   "outputs": [],
   "source": []
  },
  {
   "cell_type": "code",
   "execution_count": 297,
   "metadata": {},
   "outputs": [],
   "source": []
  },
  {
   "cell_type": "code",
   "execution_count": 298,
   "metadata": {},
   "outputs": [],
   "source": []
  },
  {
   "cell_type": "code",
   "execution_count": 299,
   "metadata": {
    "scrolled": true
   },
   "outputs": [
    {
     "name": "stdout",
     "output_type": "stream",
     "text": [
      "53427\n"
     ]
    }
   ],
   "source": []
  },
  {
   "cell_type": "code",
   "execution_count": null,
   "metadata": {},
   "outputs": [],
   "source": []
  }
 ],
 "metadata": {
  "kernelspec": {
   "display_name": "Python 3",
   "language": "python",
   "name": "python3"
  },
  "language_info": {
   "codemirror_mode": {
    "name": "ipython",
    "version": 3
   },
   "file_extension": ".py",
   "mimetype": "text/x-python",
   "name": "python",
   "nbconvert_exporter": "python",
   "pygments_lexer": "ipython3",
   "version": "3.6.4"
  }
 },
 "nbformat": 4,
 "nbformat_minor": 2
}
